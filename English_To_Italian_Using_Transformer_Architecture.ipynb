{
  "cells": [
    {
      "cell_type": "markdown",
      "metadata": {
        "id": "view-in-github",
        "colab_type": "text"
      },
      "source": [
        "<a href=\"https://colab.research.google.com/github/vinay-852/Transformer/blob/main/English_To_Italian_Using_Transformer_Architecture.ipynb\" target=\"_parent\"><img src=\"https://colab.research.google.com/assets/colab-badge.svg\" alt=\"Open In Colab\"/></a>"
      ]
    },
    {
      "cell_type": "code",
      "execution_count": null,
      "metadata": {
        "id": "3kQ89NcMLmef"
      },
      "outputs": [],
      "source": [
        "!git clone https://github.com/vinay-852/Transformer.git"
      ]
    },
    {
      "cell_type": "code",
      "execution_count": null,
      "metadata": {
        "id": "vRxda20GLqnw"
      },
      "outputs": [],
      "source": [
        "!pip install -r Transformer/requirements.txt"
      ]
    },
    {
      "cell_type": "code",
      "execution_count": null,
      "metadata": {
        "id": "e19yjn1CLolk"
      },
      "outputs": [],
      "source": [
        "%cd /content/Transformer/"
      ]
    },
    {
      "cell_type": "markdown",
      "source": [
        "# Train the Translator"
      ],
      "metadata": {
        "id": "JOeWepCVbOag"
      }
    },
    {
      "cell_type": "code",
      "execution_count": null,
      "metadata": {
        "id": "UujuvMDCMJ-k"
      },
      "outputs": [],
      "source": [
        "from config import get_config\n",
        "from train import train_model\n",
        "cfg = get_config()\n",
        "train_model(cfg)"
      ]
    },
    {
      "cell_type": "markdown",
      "source": [
        "# Translate"
      ],
      "metadata": {
        "id": "m-20XaCVbUKe"
      }
    },
    {
      "cell_type": "code",
      "source": [
        "from translate import translate\n",
        "t = translate(\"Why do I need to translate this?\")"
      ],
      "metadata": {
        "id": "sanY1-V7RlsT"
      },
      "execution_count": null,
      "outputs": []
    }
  ],
  "metadata": {
    "accelerator": "GPU",
    "colab": {
      "gpuType": "T4",
      "provenance": [],
      "authorship_tag": "ABX9TyP/ds7YQSplMOyFtA1u1h8Q",
      "include_colab_link": true
    },
    "kernelspec": {
      "display_name": "Python 3",
      "name": "python3"
    },
    "language_info": {
      "name": "python"
    }
  },
  "nbformat": 4,
  "nbformat_minor": 0
}